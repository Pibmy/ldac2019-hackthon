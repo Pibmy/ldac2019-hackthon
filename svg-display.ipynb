{
 "cells": [
  {
   "cell_type": "code",
   "execution_count": 1,
   "metadata": {},
   "outputs": [],
   "source": [
    "from IPython.display import SVG, display\n",
    "import svgwrite as sw"
   ]
  },
  {
   "cell_type": "code",
   "execution_count": 2,
   "metadata": {},
   "outputs": [],
   "source": [
    "# Get points from room description\n",
    "r1 = \"POLYGON((-7550.86349757 5556.40843218, -7550.86349757 1656.40843218, -4960.86349757 1656.40843218, -2780.86349757 1656.40843218, -2780.86349757 2506.40843218, -2780.86349757 5556.40843218, -7550.86349757 5556.40843218))\"\n",
    "r2 = \"POLYGON((3639.13650243 5556.40843218, -860.863497573 5556.40843218, -860.863497573 2506.40843218, -860.863497573 1056.40843218, -783.093897573 1056.40843218, 139.136502427 1056.40843218, 3639.13650243 1056.40843218, 3639.13650243 5556.40843218))\""
   ]
  },
  {
   "cell_type": "code",
   "execution_count": 18,
   "metadata": {},
   "outputs": [],
   "source": [
    "# Parse the result\n",
    "def parser(result):\n",
    "    return [\n",
    "            tuple(float(x) for x in r.strip().split(' '))\n",
    "            for r in result[9:-2].split(',')\n",
    "           ]\n",
    "\n",
    "room1 = parser(r1)\n",
    "room2 = parser(r2)"
   ]
  },
  {
   "cell_type": "code",
   "execution_count": 19,
   "metadata": {},
   "outputs": [],
   "source": [
    "# Define constants for drawing\n",
    "SHEET_SIZE = 500\n",
    "DRAW_SIZE = 300\n",
    "offset = int((SHEET_SIZE - DRAW_SIZE) / 2)"
   ]
  },
  {
   "cell_type": "code",
   "execution_count": 20,
   "metadata": {},
   "outputs": [],
   "source": [
    "points = room1 + room2\n",
    "xpts, ypts = zip(*points)\n",
    "\n",
    "min_x = min(xpts)\n",
    "min_y = min(ypts)\n",
    "range_x = max(xpts) - min_x\n",
    "range_y = max(ypts) - min_y\n",
    "\n",
    "\n",
    "# Normalise polygon dimensions to get in draw_size\n",
    "# All values must be positives\n",
    "def get_path(points, min_x, min_y, range_x, range_y):\n",
    "    return [\n",
    "        (\n",
    "            (p[0] - min_x) / range_x * DRAW_SIZE,\n",
    "            (p[1] - min_y) / range_y * DRAW_SIZE\n",
    "        )\n",
    "        for p in points\n",
    "    ]\n",
    "\n",
    "# Add offset to get picture in middle of sheet\n",
    "def add_offset(points, x_offset, y_offset):\n",
    "    return [\n",
    "        (\n",
    "            p[0] + x_offset,\n",
    "            p[1] + y_offset\n",
    "        )\n",
    "        for p in points\n",
    "    ]"
   ]
  },
  {
   "cell_type": "code",
   "execution_count": 21,
   "metadata": {},
   "outputs": [],
   "source": [
    "path1 = get_path(room1, min_x, min_y, range_x, range_y)\n",
    "path2 = get_path(room2, min_x, min_y, range_x, range_y)\n",
    "\n",
    "path1 = add_offset(path1, offset, offset)\n",
    "path2 = add_offset(path2, offset, offset)"
   ]
  },
  {
   "cell_type": "code",
   "execution_count": 22,
   "metadata": {},
   "outputs": [
    {
     "data": {
      "text/plain": [
       "<svgwrite.shapes.Polygon at 0x7f9fe848b668>"
      ]
     },
     "execution_count": 22,
     "metadata": {},
     "output_type": "execute_result"
    }
   ],
   "source": [
    "drw_params = {'fill': \"white\", 'fill-opacity': 0}\n",
    "drw = sw.Drawing('test.svg',size=(SHEET_SIZE, SHEET_SIZE))\n",
    "drw.add(drw.polygon(path1, stroke=\"black\", **drw_params))\n",
    "drw.add(drw.polygon(path2, stroke=\"red\", **drw_params))"
   ]
  },
  {
   "cell_type": "code",
   "execution_count": 23,
   "metadata": {},
   "outputs": [
    {
     "data": {
      "image/svg+xml": [
       "<svg baseProfile=\"full\" height=\"500\" version=\"1.1\" width=\"500\" xmlns=\"http://www.w3.org/2000/svg\" xmlns:ev=\"http://www.w3.org/2001/xml-events\" xmlns:xlink=\"http://www.w3.org/1999/xlink\"><defs/><polygon fill=\"white\" fill-opacity=\"0\" points=\"100.0,400.0 100.0,140.0 169.43699731903484,140.0 227.88203753351206,140.0 227.88203753351206,196.66666666666669 227.88203753351206,400.0 100.0,400.0\" stroke=\"black\"/><polygon fill=\"white\" fill-opacity=\"0\" points=\"400.0,400.0 279.3565683645308,400.0 279.3565683645308,196.66666666666669 279.3565683645308,100.0 281.4415442358445,100.0 306.1662198390616,100.0 400.0,100.0 400.0,400.0\" stroke=\"red\"/></svg>"
      ],
      "text/plain": [
       "<IPython.core.display.SVG object>"
      ]
     },
     "metadata": {},
     "output_type": "display_data"
    }
   ],
   "source": [
    "display(SVG(drw.tostring()))"
   ]
  },
  {
   "cell_type": "code",
   "execution_count": null,
   "metadata": {},
   "outputs": [],
   "source": []
  }
 ],
 "metadata": {
  "kernelspec": {
   "display_name": "Python 3",
   "language": "python",
   "name": "python3"
  },
  "language_info": {
   "codemirror_mode": {
    "name": "ipython",
    "version": 3
   },
   "file_extension": ".py",
   "mimetype": "text/x-python",
   "name": "python",
   "nbconvert_exporter": "python",
   "pygments_lexer": "ipython3",
   "version": "3.5.3"
  }
 },
 "nbformat": 4,
 "nbformat_minor": 2
}
