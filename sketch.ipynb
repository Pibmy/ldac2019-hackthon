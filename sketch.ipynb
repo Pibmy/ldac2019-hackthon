{
 "cells": [
  {
   "cell_type": "markdown",
   "metadata": {},
   "source": [
    "Setup"
   ]
  },
  {
   "cell_type": "code",
   "execution_count": 30,
   "metadata": {},
   "outputs": [],
   "source": [
    "# imports\n",
    "from __future__ import print_function\n",
    "import stardog  # querying the graph\n",
    "from ipywidgets import interact, interactive, fixed, interact_manual\n",
    "import ipywidgets as widgets\n",
    "\n",
    "# connection details for Stardog\n",
    "conn_details = {\n",
    "  'endpoint': 'http://localhost:5820',\n",
    "  'username': 'admin',\n",
    "  'password': 'admin'\n",
    "}"
   ]
  },
  {
   "cell_type": "markdown",
   "metadata": {},
   "source": [
    "Query for spaces and their boundaries"
   ]
  },
  {
   "cell_type": "code",
   "execution_count": 31,
   "metadata": {},
   "outputs": [
    {
     "data": {
      "text/plain": [
       "[{'boundary': 'POLYGON((-3020.86349757 -3803.59156782, -20.8634975731 -3803.59156782, -20.8634975731 -703.591567823, -920.863497573 -703.591567823, -3020.86349757 -703.591567823, -3020.86349757 -2523.59156782, -3020.86349757 -3803.59156782))',\n",
       "  'space': 'https://w3id.org/ibp/bot4osh/room_05b047f8-dd03-4cd9-a50c-d5d18c6f7ab7-0004e05e'},\n",
       " {'boundary': 'POLYGON((-2620.86349757 1396.40843218, -4880.86349757 1396.40843218, -4880.86349757 -543.591567823, -3100.86349757 -543.591567823, -920.863497573 -543.591567823, -920.863497573 773.398832177, -920.863497573 926.408432177, -920.863497573 2456.40843218, -940.863497573 2456.40843218, -2620.86349757 2456.40843218, -2620.86349757 1396.40843218))',\n",
       "  'space': 'https://w3id.org/ibp/bot4osh/room_05b047f8-dd03-4cd9-a50c-d5d18c6f7ab7-0004e1c7'},\n",
       " {'boundary': 'POLYGON((-7550.86349757 5556.40843218, -7550.86349757 1656.40843218, -4960.86349757 1656.40843218, -2780.86349757 1656.40843218, -2780.86349757 2506.40843218, -2780.86349757 5556.40843218, -7550.86349757 5556.40843218))',\n",
       "  'space': 'https://w3id.org/ibp/bot4osh/room_05b047f8-dd03-4cd9-a50c-d5d18c6f7ab7-0004e04f'},\n",
       " {'boundary': 'POLYGON((3639.13650243 5556.40843218, -860.863497573 5556.40843218, -860.863497573 2506.40843218, -860.863497573 1056.40843218, -783.093897573 1056.40843218, 139.136502427 1056.40843218, 3639.13650243 1056.40843218, 3639.13650243 5556.40843218))',\n",
       "  'space': 'https://w3id.org/ibp/bot4osh/room_05b047f8-dd03-4cd9-a50c-d5d18c6f7ab7-0004e052'},\n",
       " {'boundary': 'POLYGON((3639.13650243 -3803.59156782, 3639.13650243 796.408432177, 139.136502427 796.408432177, 139.136502427 -470.581967823, 139.136502427 -623.591567823, 139.136502427 -3803.59156782, 3639.13650243 -3803.59156782))',\n",
       "  'space': 'https://w3id.org/ibp/bot4osh/room_05b047f8-dd03-4cd9-a50c-d5d18c6f7ab7-0004e175'},\n",
       " {'boundary': 'POLYGON((-4880.86349757 -3803.59156782, -3180.86349757 -3803.59156782, -3180.86349757 -2603.59156782, -4880.86349757 -2603.59156782, -4880.86349757 -3803.59156782))',\n",
       "  'space': 'https://w3id.org/ibp/bot4osh/room_05b047f8-dd03-4cd9-a50c-d5d18c6f7ab7-0004e064'},\n",
       " {'boundary': 'POLYGON((-3180.86349757 -703.591567823, -4880.86349757 -703.591567823, -4880.86349757 -2443.59156782, -3180.86349757 -2443.59156782, -3180.86349757 -703.591567823))',\n",
       "  'space': 'https://w3id.org/ibp/bot4osh/room_05b047f8-dd03-4cd9-a50c-d5d18c6f7ab7-0004e061'},\n",
       " {'boundary': 'POLYGON((-7550.86349757 1396.40843218, -7550.86349757 -3803.59156782, -5040.86349757 -3803.59156782, -5040.86349757 -2523.59156782, -5040.86349757 -623.591567823, -5040.86349757 1396.40843218, -7550.86349757 1396.40843218))',\n",
       "  'space': 'https://w3id.org/ibp/bot4osh/room_05b047f8-dd03-4cd9-a50c-d5d18c6f7ab7-0004e058'},\n",
       " {'boundary': 'POLYGON((-1020.86349757 5556.40843218, -2620.86349757 5556.40843218, -2620.86349757 2556.40843218, -1020.86349757 2556.40843218, -1020.86349757 5556.40843218))',\n",
       "  'space': 'https://w3id.org/ibp/bot4osh/room_05b047f8-dd03-4cd9-a50c-d5d18c6f7ab7-0004e055'}]"
      ]
     },
     "metadata": {},
     "output_type": "display_data"
    }
   ],
   "source": [
    "with stardog.Connection('ldachackathon', **conn_details) as conn:\n",
    "  results = conn.select(\"\"\"\n",
    "PREFIX bot: <https://w3id.org/bot#>\n",
    "PREFIX sosa: <http://www.w3.org/ns/sosa/>\n",
    "PREFIX ssn: <http://www.w3.org/ns/ssn/systems/>\n",
    "PREFIX props: <https://w3id.org/props#>\n",
    "select ?space ?boundary WHERE { \n",
    "  ?space a bot:Space ;\n",
    "    props:spaceBoundary ?boundary\n",
    "}\"\"\")\n",
    "\n",
    "def res_to_obj(res):\n",
    "  return { 'boundary': res['boundary']['value'], 'space': res['space']['value'] }\n",
    "    \n",
    "mapped = map(res_to_obj, results['results']['bindings'])\n",
    "\n",
    "display(list(mapped))"
   ]
  },
  {
   "cell_type": "code",
   "execution_count": 32,
   "metadata": {},
   "outputs": [],
   "source": [
    "sensor_types = ['http://elite.polito.it/ontologies/dogont.owl#HumiditySensor',\n",
    "'http://elite.polito.it/ontologies/dogont.owl#LightSensor',\n",
    "'http://elite.polito.it/ontologies/dogont.owl#ThermostatTemperatureSensor',\n",
    "'http://elite.polito.it/ontologies/dogont.owl#SingleTemperatureSensor',\n",
    "'http://elite.polito.it/ontologies/dogont.owl#TemperatureSensor']"
   ]
  },
  {
   "cell_type": "code",
   "execution_count": 34,
   "metadata": {
    "scrolled": true
   },
   "outputs": [
    {
     "data": {
      "application/vnd.jupyter.widget-view+json": {
       "model_id": "023b68114fb446a5a09956ecdf3bccf0",
       "version_major": 2,
       "version_minor": 0
      },
      "text/plain": [
       "interactive(children=(Dropdown(description='x', options=('http://elite.polito.it/ontologies/dogont.owl#Humidit…"
      ]
     },
     "metadata": {},
     "output_type": "display_data"
    },
    {
     "data": {
      "text/plain": [
       "<function __main__.f(x)>"
      ]
     },
     "execution_count": 34,
     "metadata": {},
     "output_type": "execute_result"
    }
   ],
   "source": [
    "def set_sensor_type(x):\n",
    "    return x\n",
    "\n",
    "interact(set_sensor_type, x=sensor_types)"
   ]
  },
  {
   "cell_type": "code",
   "execution_count": null,
   "metadata": {},
   "outputs": [],
   "source": []
  }
 ],
 "metadata": {
  "kernelspec": {
   "display_name": "Python 3",
   "language": "python",
   "name": "python3"
  },
  "language_info": {
   "codemirror_mode": {
    "name": "ipython",
    "version": 3
   },
   "file_extension": ".py",
   "mimetype": "text/x-python",
   "name": "python",
   "nbconvert_exporter": "python",
   "pygments_lexer": "ipython3",
   "version": "3.7.3"
  }
 },
 "nbformat": 4,
 "nbformat_minor": 2
}
