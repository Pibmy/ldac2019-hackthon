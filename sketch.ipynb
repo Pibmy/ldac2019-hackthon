{
 "cells": [
  {
   "cell_type": "markdown",
   "metadata": {},
   "source": [
    "Setup"
   ]
  },
  {
   "cell_type": "code",
   "execution_count": 37,
   "metadata": {},
   "outputs": [],
   "source": [
    "# imports\n",
    "from __future__ import print_function\n",
    "import stardog  # querying the graph\n",
    "from ipywidgets import interact, interactive, fixed, interact_manual\n",
    "import ipywidgets as widgets\n",
    "from IPython.display import SVG, display\n",
    "import svgwrite as sw\n",
    "import time\n",
    "import ipywidgets as widgets\n",
    "import pandas as pd\n",
    "from datetime import datetime\n",
    "\n",
    "# connection details for Stardog\n",
    "conn_details = {\n",
    "  'endpoint': 'http://localhost:5820',\n",
    "  'username': 'admin',\n",
    "  'password': 'admin'\n",
    "}"
   ]
  },
  {
   "cell_type": "markdown",
   "metadata": {},
   "source": [
    "Query for spaces and their boundaries"
   ]
  },
  {
   "cell_type": "code",
   "execution_count": 38,
   "metadata": {
    "scrolled": false
   },
   "outputs": [],
   "source": [
    "with stardog.Connection('ldachackathon', **conn_details) as conn:\n",
    "  results = conn.select(\"\"\"\n",
    "PREFIX bot: <https://w3id.org/bot#>\n",
    "PREFIX sosa: <http://www.w3.org/ns/sosa/>\n",
    "PREFIX ssn: <http://www.w3.org/ns/ssn/systems/>\n",
    "PREFIX props: <https://w3id.org/props#>\n",
    "select ?space ?boundary WHERE { \n",
    "  ?space a bot:Space ;\n",
    "    props:spaceBoundary ?boundary\n",
    "}\"\"\")\n",
    "\n",
    "def res_to_obj(res):\n",
    "  return { 'boundary': res['boundary']['value'], 'space': res['space']['value'] }\n",
    "    \n",
    "mapped = map(res_to_obj, results['results']['bindings'])\n",
    "mapped = list(mapped)"
   ]
  },
  {
   "cell_type": "code",
   "execution_count": 39,
   "metadata": {},
   "outputs": [],
   "source": [
    "sensor_types = ['http://elite.polito.it/ontologies/dogont.owl#HumiditySensor',\n",
    "'http://elite.polito.it/ontologies/dogont.owl#LightSensor',\n",
    "'http://elite.polito.it/ontologies/dogont.owl#ThermostatTemperatureSensor',\n",
    "'http://elite.polito.it/ontologies/dogont.owl#SingleTemperatureSensor',\n",
    "'http://elite.polito.it/ontologies/dogont.owl#TemperatureSensor']"
   ]
  },
  {
   "cell_type": "code",
   "execution_count": 45,
   "metadata": {},
   "outputs": [
    {
     "data": {
      "application/vnd.jupyter.widget-view+json": {
       "model_id": "8ab5b8b452024d8ca48b6d2e84101245",
       "version_major": 2,
       "version_minor": 0
      },
      "text/plain": [
       "interactive(children=(Dropdown(description='sensor_type', options=('http://elite.polito.it/ontologies/dogont.o…"
      ]
     },
     "metadata": {},
     "output_type": "display_data"
    }
   ],
   "source": [
    "# Parse the result\n",
    "def parse(result):\n",
    "    return [\n",
    "            tuple(float(x) for x in r.strip().split(' '))\n",
    "            for r in result[9:-2].split(',')\n",
    "           ]\n",
    "\n",
    "rooms = [{\"points\": parse(i['boundary'])} for i in mapped ]\n",
    "\n",
    "# Define constants for drawing\n",
    "SHEET_SIZE = 500\n",
    "DRAW_SIZE = 300\n",
    "offset = int((SHEET_SIZE - DRAW_SIZE) / 2)\n",
    "points = []\n",
    "for room in rooms:\n",
    "    points += room[\"points\"]\n",
    "xpts, ypts = zip(*points)\n",
    "\n",
    "min_x = min(xpts)\n",
    "min_y = min(ypts)\n",
    "range_x = max(xpts) - min_x\n",
    "range_y = max(ypts) - min_y\n",
    "\n",
    "# Normalise polygon dimensions to get in draw_size\n",
    "# All values must be positives\n",
    "def get_path(points, min_x, min_y, range_x, range_y):\n",
    "    return [\n",
    "        (\n",
    "            (p[0] - min_x) / range_x * DRAW_SIZE,\n",
    "            (p[1] - min_y) / range_y * DRAW_SIZE\n",
    "        )\n",
    "        for p in points\n",
    "    ]\n",
    "\n",
    "# Add offset to get picture in middle of sheet\n",
    "def add_offset(points, x_offset, y_offset):\n",
    "    return [\n",
    "        (\n",
    "            p[0] + x_offset,\n",
    "            p[1] + y_offset\n",
    "        )\n",
    "        for p in points\n",
    "    ]\n",
    "\n",
    "class RoomVisualizer:\n",
    "    def __init__(self):\n",
    "        pass\n",
    "    \n",
    "    def set_sensor_type(self, type):\n",
    "        self.sensor_type = type\n",
    "        \n",
    "    def set_time(self, time):\n",
    "        self.time = time\n",
    "        \n",
    "    def draw_all_rooms(self):\n",
    "        # Dummy coloring\n",
    "        if self.sensor_type == sensor_types[0]:\n",
    "            fill = \"green\"\n",
    "        else:\n",
    "            fill = \"red\"\n",
    "        # TODO: Query sensors of given type and retrieve their values, connected to a space\n",
    "        drw_params = {'fill': fill, 'fill-opacity': 1}\n",
    "        drw = sw.Drawing('test.svg',size=(SHEET_SIZE, SHEET_SIZE))\n",
    "\n",
    "        for room in rooms:\n",
    "            path = get_path(room['points'], min_x, min_y, range_x, range_y)\n",
    "            path = add_offset(path, offset, offset)\n",
    "            drw.add(drw.polygon(path, stroke=\"black\", **drw_params))\n",
    "\n",
    "        display(SVG(drw.tostring()))\n",
    "\n",
    "visualizer = RoomVisualizer()\n",
    "\n",
    "start_date = datetime(2018, 4, 24)\n",
    "end_date = datetime(2018, 5, 24)\n",
    "\n",
    "dates = pd.date_range(start_date, end_date, freq='D')\n",
    "\n",
    "options = [(date.strftime(' %d %b %Y '), date) for date in dates]\n",
    "index = 0\n",
    "\n",
    "selection_range_slider = widgets.SelectionSlider(\n",
    "    options=options,\n",
    "    index=index,\n",
    "    description='Time',\n",
    "    orientation='horizontal',\n",
    "    layout={'width': '500px'}\n",
    ")\n",
    "\n",
    "selection_range_slider\n",
    "\n",
    "@interact(sensor_type=sensor_types, time=selection_range_slider)\n",
    "def set_parameters(sensor_type, time):\n",
    "    visualizer.set_sensor_type(sensor_type)\n",
    "    visualizer.set_time(time)\n",
    "    visualizer.draw_all_rooms()"
   ]
  },
  {
   "cell_type": "code",
   "execution_count": null,
   "metadata": {},
   "outputs": [],
   "source": []
  },
  {
   "cell_type": "code",
   "execution_count": null,
   "metadata": {},
   "outputs": [],
   "source": []
  }
 ],
 "metadata": {
  "kernelspec": {
   "display_name": "Python 3",
   "language": "python",
   "name": "python3"
  },
  "language_info": {
   "codemirror_mode": {
    "name": "ipython",
    "version": 3
   },
   "file_extension": ".py",
   "mimetype": "text/x-python",
   "name": "python",
   "nbconvert_exporter": "python",
   "pygments_lexer": "ipython3",
   "version": "3.7.3"
  }
 },
 "nbformat": 4,
 "nbformat_minor": 2
}
