{
 "cells": [
  {
   "cell_type": "code",
   "execution_count": 1,
   "metadata": {},
   "outputs": [
    {
     "ename": "ModuleNotFoundError",
     "evalue": "No module named 'stardog'",
     "output_type": "error",
     "traceback": [
      "\u001b[1;31m---------------------------------------------------------------------------\u001b[0m",
      "\u001b[1;31mModuleNotFoundError\u001b[0m                       Traceback (most recent call last)",
      "\u001b[1;32m<ipython-input-1-326a8a357557>\u001b[0m in \u001b[0;36m<module>\u001b[1;34m\u001b[0m\n\u001b[0;32m      1\u001b[0m \u001b[1;32mimport\u001b[0m \u001b[0mos\u001b[0m\u001b[1;33m\u001b[0m\u001b[1;33m\u001b[0m\u001b[0m\n\u001b[1;32m----> 2\u001b[1;33m \u001b[1;32mimport\u001b[0m \u001b[0mstardog\u001b[0m\u001b[1;33m\u001b[0m\u001b[1;33m\u001b[0m\u001b[0m\n\u001b[0m\u001b[0;32m      3\u001b[0m \u001b[1;33m\u001b[0m\u001b[0m\n\u001b[0;32m      4\u001b[0m conn_details = {\n\u001b[0;32m      5\u001b[0m   \u001b[1;34m'endpoint'\u001b[0m\u001b[1;33m:\u001b[0m \u001b[1;34m'http://localhost:5820'\u001b[0m\u001b[1;33m,\u001b[0m\u001b[1;33m\u001b[0m\u001b[1;33m\u001b[0m\u001b[0m\n",
      "\u001b[1;31mModuleNotFoundError\u001b[0m: No module named 'stardog'"
     ]
    }
   ],
   "source": [
    "import os\n",
    "import stardog\n",
    "\n",
    "conn_details = {\n",
    "  'endpoint': 'http://localhost:5820',\n",
    "  'username': 'admin',\n",
    "  'password': 'admin'\n",
    "}\n",
    "\n",
    "with stardog.Admin(**conn_details) as admin:\n",
    "  db = admin.new_database('ldachackathon')\n",
    "    \n",
    "  with stardog.Connection('ldachackathon', **conn_details) as conn:\n",
    "    conn.begin()\n",
    "    conn.add(stardog.content.File('./data/00_OpenSmartHomeData.ttl'))\n",
    "    conn.add(stardog.content.File('./data/01_LinkOsh.ttl'))\n",
    "    conn.add(stardog.content.File('./data/02_BotFromRevit.ttl'))\n",
    "    conn.add(stardog.content.File('./data/02_GeoFromRevit.ttl'))\n",
    "    conn.commit()\n",
    "    \n",
    "    results = conn.select('select * { ?a ?p ?o }')"
   ]
  },
  {
   "cell_type": "code",
   "execution_count": null,
   "metadata": {},
   "outputs": [],
   "source": []
  },
  {
   "cell_type": "code",
   "execution_count": null,
   "metadata": {},
   "outputs": [],
   "source": []
  }
 ],
 "metadata": {
  "kernelspec": {
   "display_name": "Python 3",
   "language": "python",
   "name": "python3"
  },
  "language_info": {
   "codemirror_mode": {
    "name": "ipython",
    "version": 3
   },
   "file_extension": ".py",
   "mimetype": "text/x-python",
   "name": "python",
   "nbconvert_exporter": "python",
   "pygments_lexer": "ipython3",
   "version": "3.7.3"
  }
 },
 "nbformat": 4,
 "nbformat_minor": 2
}
