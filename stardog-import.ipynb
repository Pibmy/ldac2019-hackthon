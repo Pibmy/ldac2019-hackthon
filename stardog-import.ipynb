{
 "cells": [
  {
   "cell_type": "code",
   "execution_count": 8,
   "metadata": {},
   "outputs": [],
   "source": [
    "import os\n",
    "import stardog\n",
    "\n",
    "conn_details = {\n",
    "  'endpoint': 'http://localhost:5820',\n",
    "  'username': 'admin',\n",
    "  'password': 'admin'\n",
    "}\n",
    "\n",
    "with stardog.Admin(**conn_details) as admin:\n",
    "  db = admin.database('ldachackathon').drop()\n",
    "  db = admin.new_database('ldachackathon')\n",
    "    \n",
    "  with stardog.Connection('ldachackathon', **conn_details) as conn:\n",
    "    conn.begin()\n",
    "    conn.add(stardog.content.File('./data/00_OpenSmartHomeData.ttl'))\n",
    "    conn.add(stardog.content.File('./data/01_LinkOsh.ttl'))\n",
    "    conn.add(stardog.content.File('./data/02_BotFromRevit.ttl'))\n",
    "    conn.add(stardog.content.File('./data/02_GeoFromRevit.ttl'))\n",
    "    conn.add(stardog.content.File('./data/Connect.ttl'))\n",
    "    conn.commit()\n",
    "    \n",
    "    results = conn.select('select * { ?a ?p ?o }')\n",
    "    conn.update('LOAD <http://elite.polito.it/ontologies/dogont.owl>')"
   ]
  },
  {
   "cell_type": "code",
   "execution_count": null,
   "metadata": {},
   "outputs": [],
   "source": []
  },
  {
   "cell_type": "code",
   "execution_count": null,
   "metadata": {},
   "outputs": [],
   "source": []
  }
 ],
 "metadata": {
  "kernelspec": {
   "display_name": "Python 3",
   "language": "python",
   "name": "python3"
  },
  "language_info": {
   "codemirror_mode": {
    "name": "ipython",
    "version": 3
   },
   "file_extension": ".py",
   "mimetype": "text/x-python",
   "name": "python",
   "nbconvert_exporter": "python",
   "pygments_lexer": "ipython3",
   "version": "3.7.3"
  }
 },
 "nbformat": 4,
 "nbformat_minor": 2
}
