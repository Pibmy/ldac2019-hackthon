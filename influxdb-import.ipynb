{
 "cells": [
  {
   "cell_type": "code",
   "execution_count": 1,
   "metadata": {},
   "outputs": [],
   "source": [
    "# Import requested libraries.\n",
    "# Influxdb > quering InfluxDB database.\n",
    "# Pandas > loading \".csv\" files and handling data.\n",
    "import os\n",
    "\n",
    "from influxdb import InfluxDBClient\n",
    "import pandas as pd"
   ]
  },
  {
   "cell_type": "code",
   "execution_count": 2,
   "metadata": {},
   "outputs": [],
   "source": [
    "# Define constants for InfluxDB connection.\n",
    "INFLUXDB_HOST = 'localhost'\n",
    "INFLUXDB_PORT = 8086\n",
    "INFLUXDB_DATABASE = 'mydb'\n",
    "INFLUXDB_USERNAME = 'root'\n",
    "INFLUXDB_PASSWORD = 'root'\n",
    "INFLUXDB_SSL = False\n",
    "INFLUXDB_VERIFY_SSL = False\n",
    "INFLUXDB_TIMEOUT = 5000"
   ]
  },
  {
   "cell_type": "code",
   "execution_count": 3,
   "metadata": {},
   "outputs": [],
   "source": [
    "# Create an influx client to interact with database\n",
    "client = InfluxDBClient(\n",
    "    host=INFLUXDB_HOST, port=INFLUXDB_PORT,\n",
    "    username=INFLUXDB_USERNAME, password=INFLUXDB_PASSWORD,\n",
    "    ssl=INFLUXDB_SSL, verify_ssl=INFLUXDB_VERIFY_SSL,\n",
    "    timeout=INFLUXDB_TIMEOUT)"
   ]
  },
  {
   "cell_type": "code",
   "execution_count": 4,
   "metadata": {},
   "outputs": [],
   "source": [
    "# Create new database and connect to it\n",
    "client.create_database(INFLUXDB_DATABASE)\n",
    "client.switch_database(INFLUXDB_DATABASE)"
   ]
  },
  {
   "cell_type": "code",
   "execution_count": 5,
   "metadata": {},
   "outputs": [],
   "source": [
    "# Get list of files to read\n",
    "DIRPATH = './data/Measurements/'\n",
    "filenames = os.listdir(DIRPATH)"
   ]
  },
  {
   "cell_type": "code",
   "execution_count": 6,
   "metadata": {},
   "outputs": [],
   "source": [
    "# Loop over filenames\n",
    "for filename in filenames:\n",
    "\n",
    "    # Read csv file\n",
    "    filepath = DIRPATH + filename\n",
    "    data = pd.read_csv(filepath, parse_dates=True)\n",
    "\n",
    "    # Get Timeserie metadata from filename\n",
    "    filename_without_extension = os.path.splitext(filename)[0]\n",
    "    location, measurement = filename_without_extension.split('_', 1)\n",
    "    \n",
    "    # Prepare and write data to influx database\n",
    "    serie = [\n",
    "        {\n",
    "            'time': row[0],\n",
    "            'measurement': measurement,\n",
    "            'fields': {\n",
    "                'value': row[1],\n",
    "            },\n",
    "            'tags': {\n",
    "                'location': location\n",
    "            }\n",
    "        }\n",
    "        for row in data\n",
    "    ]\n",
    "    client.write_points(serie, time_precision='s')"
   ]
  },
  {
   "cell_type": "code",
   "execution_count": 7,
   "metadata": {},
   "outputs": [
    {
     "data": {
      "text/plain": [
       "[{'location': 'Bathroom', 'time': '2019-06-01T00:00:00Z', 'value': '4'},\n",
       " {'location': 'Kitchen', 'time': '2019-06-01T00:00:00Z', 'value': '4'},\n",
       " {'location': 'Room1', 'time': '2019-06-01T00:00:00Z', 'value': '4'},\n",
       " {'location': 'Room2', 'time': '2019-06-01T00:00:00Z', 'value': '4'},\n",
       " {'location': 'Room3', 'time': '2019-06-01T00:00:00Z', 'value': '4'}]"
      ]
     },
     "execution_count": 7,
     "metadata": {},
     "output_type": "execute_result"
    }
   ],
   "source": [
    "# Request data to check if all OK\n",
    "result = client.query(\"SELECT * FROM Temperature LIMIT 5\")\n",
    "some_data = [point for point in result.get_points()]\n",
    "some_data"
   ]
  },
  {
   "cell_type": "code",
   "execution_count": null,
   "metadata": {},
   "outputs": [],
   "source": []
  }
 ],
 "metadata": {
  "kernelspec": {
   "display_name": "Python 3",
   "language": "python",
   "name": "python3"
  },
  "language_info": {
   "codemirror_mode": {
    "name": "ipython",
    "version": 3
   },
   "file_extension": ".py",
   "mimetype": "text/x-python",
   "name": "python",
   "nbconvert_exporter": "python",
   "pygments_lexer": "ipython3",
   "version": "3.5.3"
  }
 },
 "nbformat": 4,
 "nbformat_minor": 2
}
